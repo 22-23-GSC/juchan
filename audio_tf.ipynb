{
 "cells": [
  {
   "cell_type": "code",
   "execution_count": 7,
   "metadata": {},
   "outputs": [],
   "source": [
    "from pydub import AudioSegment\n",
    "\n",
    "def mp3_2_wav(file_path):\n",
    "    \"\"\"Convert mp3 to wav.\n",
    "    Args:\n",
    "        file_path: mp3 file path.\n",
    "    Returns:\n",
    "        wav file path.\n",
    "    \"\"\"\n",
    "    # convert mp3 to wav\n",
    "    wav_file_path = file_path.replace('.mp3', '.wav')\n",
    "    sound = AudioSegment.from_mp3(file_path)\n",
    "    sound.export(wav_file_path, format=\"wav\")\n",
    "    return wav_file_path"
   ]
  },
  {
   "cell_type": "code",
   "execution_count": 14,
   "metadata": {},
   "outputs": [],
   "source": [
    "from pydub import AudioSegment\n",
    "\n",
    "def stereo2mono(file_path):\n",
    "    # Open the stereo sound\n",
    "    stereo_sound = AudioSegment.from_wav(file_path)\n",
    "    \n",
    "    # Calling the split_to_mono() method on the stereo sound will return a tuple\n",
    "    mono_audios = stereo_sound.split_to_mono()\n",
    "    # Export the two mono channels as separate wav files\n",
    "    mono_left = mono_audios[0].export(file_path.replace('.wav', '_left.wav'), format=\"wav\")\n",
    "    mono_right = mono_audios[1].export(file_path.replace('.wav', '_right.wav'), format=\"wav\")\n",
    "    return file_path.replace('.wav', '_right.wav')"
   ]
  },
  {
   "cell_type": "code",
   "execution_count": 15,
   "metadata": {},
   "outputs": [
    {
     "name": "stdout",
     "output_type": "stream",
     "text": [
      "ClassificationResult(classifications=[Classifications(categories=[Category(index=8, score=0.6196929812431335, display_name='', category_name='8 카페'), Category(index=2, score=0.09672852605581284, display_name='', category_name='2 police')], head_index=0, head_name='probability')])\n"
     ]
    }
   ],
   "source": [
    "# Imports\n",
    "from tflite_support.task import audio\n",
    "from tflite_support.task import core\n",
    "from tflite_support.task import processor\n",
    "import os\n",
    "\n",
    "# Initialization\n",
    "model_path = \"./converted_tflite/soundclassifier_with_metadata.tflite\"\n",
    "base_options = core.BaseOptions(file_name=model_path)\n",
    "classification_options = processor.ClassificationOptions(max_results=2)\n",
    "options = audio.AudioClassifierOptions(base_options=base_options, classification_options=classification_options)\n",
    "classifier = audio.AudioClassifier.create_from_options(options)\n",
    "\n",
    "# Alternatively, you can create an audio classifier in the following manner:\n",
    "# classifier = audio.AudioClassifier.create_from_file(model_path)\n",
    "\n",
    "# Run inference\n",
    "audio_path = \"./audio/cafe/cafe-ambience-9263.mp3\"\n",
    "audio_path = mp3_2_wav(audio_path)\n",
    "mono_audio_path = stereo2mono(audio_path)\n",
    "audio_file = audio.TensorAudio.create_from_wav_file(mono_audio_path, classifier.required_input_buffer_size)\n",
    "audio_result = classifier.classify(audio_file)\n",
    "print(audio_result)"
   ]
  },
  {
   "cell_type": "code",
   "execution_count": null,
   "metadata": {},
   "outputs": [],
   "source": []
  }
 ],
 "metadata": {
  "kernelspec": {
   "display_name": "py39",
   "language": "python",
   "name": "python3"
  },
  "language_info": {
   "codemirror_mode": {
    "name": "ipython",
    "version": 3
   },
   "file_extension": ".py",
   "mimetype": "text/x-python",
   "name": "python",
   "nbconvert_exporter": "python",
   "pygments_lexer": "ipython3",
   "version": "3.9.16"
  },
  "orig_nbformat": 4,
  "vscode": {
   "interpreter": {
    "hash": "a0f8628909136364a29982cb57877015246d039a11a161bf771822b10d7b364c"
   }
  }
 },
 "nbformat": 4,
 "nbformat_minor": 2
}
