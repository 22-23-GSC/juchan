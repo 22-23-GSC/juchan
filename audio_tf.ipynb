{
 "cells": [
  {
   "cell_type": "code",
   "execution_count": null,
   "metadata": {},
   "outputs": [],
   "source": [
    "# Imports\n",
    "from tflite_support.task import audio\n",
    "from tflite_support.task import core\n",
    "from tflite_support.task import processor\n",
    "\n",
    "# Initialization\n",
    "\n",
    "base_options = core.BaseOptions(file_name=model_path)\n",
    "classification_options = processor.ClassificationOptions(max_results=2)\n",
    "options = audio.AudioClassifierOptions(base_options=base_options, classification_options=classification_options)\n",
    "classifier = audio.AudioClassifier.create_from_options(options)\n",
    "\n",
    "# Alternatively, you can create an audio classifier in the following manner:\n",
    "# classifier = audio.AudioClassifier.create_from_file(model_path)\n",
    "\n",
    "# Run inference\n",
    "audio_file = audio.TensorAudio.create_from_wav_file(audio_path, classifier.required_input_buffer_size)\n",
    "audio_result = classifier.classify(audio_file)"
   ]
  }
 ],
 "metadata": {
  "language_info": {
   "name": "python"
  },
  "orig_nbformat": 4
 },
 "nbformat": 4,
 "nbformat_minor": 2
}
